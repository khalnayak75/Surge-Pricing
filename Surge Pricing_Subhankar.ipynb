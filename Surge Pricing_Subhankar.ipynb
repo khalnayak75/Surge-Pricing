{
 "cells": [
  {
   "cell_type": "code",
   "execution_count": 1,
   "metadata": {},
   "outputs": [
    {
     "data": {
      "text/html": [
       "<div>\n",
       "<style scoped>\n",
       "    .dataframe tbody tr th:only-of-type {\n",
       "        vertical-align: middle;\n",
       "    }\n",
       "\n",
       "    .dataframe tbody tr th {\n",
       "        vertical-align: top;\n",
       "    }\n",
       "\n",
       "    .dataframe thead th {\n",
       "        text-align: right;\n",
       "    }\n",
       "</style>\n",
       "<table border=\"1\" class=\"dataframe\">\n",
       "  <thead>\n",
       "    <tr style=\"text-align: right;\">\n",
       "      <th></th>\n",
       "      <th></th>\n",
       "      <th>vehicle_model_id</th>\n",
       "      <th>package_id</th>\n",
       "      <th>travel_type_id</th>\n",
       "      <th>from_area_id</th>\n",
       "      <th>to_area_id</th>\n",
       "      <th>from_city_id</th>\n",
       "      <th>to_city_id</th>\n",
       "      <th>from_date</th>\n",
       "      <th>to_date</th>\n",
       "      <th>online_booking</th>\n",
       "      <th>mobile_site_booking</th>\n",
       "      <th>booking_created</th>\n",
       "      <th>from_lat</th>\n",
       "      <th>from_long</th>\n",
       "      <th>to_lat</th>\n",
       "      <th>to_long</th>\n",
       "      <th>Car_Cancellation</th>\n",
       "    </tr>\n",
       "    <tr>\n",
       "      <th>id</th>\n",
       "      <th>user_id</th>\n",
       "      <th></th>\n",
       "      <th></th>\n",
       "      <th></th>\n",
       "      <th></th>\n",
       "      <th></th>\n",
       "      <th></th>\n",
       "      <th></th>\n",
       "      <th></th>\n",
       "      <th></th>\n",
       "      <th></th>\n",
       "      <th></th>\n",
       "      <th></th>\n",
       "      <th></th>\n",
       "      <th></th>\n",
       "      <th></th>\n",
       "      <th></th>\n",
       "      <th></th>\n",
       "    </tr>\n",
       "  </thead>\n",
       "  <tbody>\n",
       "    <tr>\n",
       "      <th>132512</th>\n",
       "      <th>22177</th>\n",
       "      <td>28</td>\n",
       "      <td>NaN</td>\n",
       "      <td>2</td>\n",
       "      <td>83.0</td>\n",
       "      <td>448.0</td>\n",
       "      <td>NaN</td>\n",
       "      <td>NaN</td>\n",
       "      <td>1/1/2013 2:00</td>\n",
       "      <td>NaN</td>\n",
       "      <td>0</td>\n",
       "      <td>0</td>\n",
       "      <td>1/1/2013 1:39</td>\n",
       "      <td>12.924150</td>\n",
       "      <td>77.672290</td>\n",
       "      <td>12.927320</td>\n",
       "      <td>77.635750</td>\n",
       "      <td>0</td>\n",
       "    </tr>\n",
       "    <tr>\n",
       "      <th>132513</th>\n",
       "      <th>21413</th>\n",
       "      <td>12</td>\n",
       "      <td>NaN</td>\n",
       "      <td>2</td>\n",
       "      <td>1010.0</td>\n",
       "      <td>540.0</td>\n",
       "      <td>NaN</td>\n",
       "      <td>NaN</td>\n",
       "      <td>1/1/2013 9:00</td>\n",
       "      <td>NaN</td>\n",
       "      <td>0</td>\n",
       "      <td>0</td>\n",
       "      <td>1/1/2013 2:25</td>\n",
       "      <td>12.966910</td>\n",
       "      <td>77.749350</td>\n",
       "      <td>12.927680</td>\n",
       "      <td>77.626640</td>\n",
       "      <td>0</td>\n",
       "    </tr>\n",
       "    <tr>\n",
       "      <th>132514</th>\n",
       "      <th>22178</th>\n",
       "      <td>12</td>\n",
       "      <td>NaN</td>\n",
       "      <td>2</td>\n",
       "      <td>1301.0</td>\n",
       "      <td>1034.0</td>\n",
       "      <td>NaN</td>\n",
       "      <td>NaN</td>\n",
       "      <td>1/1/2013 3:30</td>\n",
       "      <td>NaN</td>\n",
       "      <td>0</td>\n",
       "      <td>0</td>\n",
       "      <td>1/1/2013 3:08</td>\n",
       "      <td>12.937222</td>\n",
       "      <td>77.626915</td>\n",
       "      <td>13.047926</td>\n",
       "      <td>77.597766</td>\n",
       "      <td>0</td>\n",
       "    </tr>\n",
       "    <tr>\n",
       "      <th>132515</th>\n",
       "      <th>13034</th>\n",
       "      <td>12</td>\n",
       "      <td>NaN</td>\n",
       "      <td>2</td>\n",
       "      <td>768.0</td>\n",
       "      <td>398.0</td>\n",
       "      <td>NaN</td>\n",
       "      <td>NaN</td>\n",
       "      <td>1/1/2013 5:45</td>\n",
       "      <td>NaN</td>\n",
       "      <td>0</td>\n",
       "      <td>0</td>\n",
       "      <td>1/1/2013 4:39</td>\n",
       "      <td>12.989990</td>\n",
       "      <td>77.553320</td>\n",
       "      <td>12.971430</td>\n",
       "      <td>77.639140</td>\n",
       "      <td>0</td>\n",
       "    </tr>\n",
       "    <tr>\n",
       "      <th>132517</th>\n",
       "      <th>22180</th>\n",
       "      <td>12</td>\n",
       "      <td>NaN</td>\n",
       "      <td>2</td>\n",
       "      <td>1365.0</td>\n",
       "      <td>849.0</td>\n",
       "      <td>NaN</td>\n",
       "      <td>NaN</td>\n",
       "      <td>1/1/2013 9:00</td>\n",
       "      <td>NaN</td>\n",
       "      <td>0</td>\n",
       "      <td>0</td>\n",
       "      <td>1/1/2013 7:53</td>\n",
       "      <td>12.845653</td>\n",
       "      <td>77.677925</td>\n",
       "      <td>12.954340</td>\n",
       "      <td>77.600720</td>\n",
       "      <td>0</td>\n",
       "    </tr>\n",
       "  </tbody>\n",
       "</table>\n",
       "</div>"
      ],
      "text/plain": [
       "                vehicle_model_id  package_id  travel_type_id  from_area_id  \\\n",
       "id     user_id                                                               \n",
       "132512 22177                  28         NaN               2          83.0   \n",
       "132513 21413                  12         NaN               2        1010.0   \n",
       "132514 22178                  12         NaN               2        1301.0   \n",
       "132515 13034                  12         NaN               2         768.0   \n",
       "132517 22180                  12         NaN               2        1365.0   \n",
       "\n",
       "                to_area_id  from_city_id  to_city_id      from_date to_date  \\\n",
       "id     user_id                                                                \n",
       "132512 22177         448.0           NaN         NaN  1/1/2013 2:00     NaN   \n",
       "132513 21413         540.0           NaN         NaN  1/1/2013 9:00     NaN   \n",
       "132514 22178        1034.0           NaN         NaN  1/1/2013 3:30     NaN   \n",
       "132515 13034         398.0           NaN         NaN  1/1/2013 5:45     NaN   \n",
       "132517 22180         849.0           NaN         NaN  1/1/2013 9:00     NaN   \n",
       "\n",
       "                online_booking  mobile_site_booking booking_created  \\\n",
       "id     user_id                                                        \n",
       "132512 22177                 0                    0   1/1/2013 1:39   \n",
       "132513 21413                 0                    0   1/1/2013 2:25   \n",
       "132514 22178                 0                    0   1/1/2013 3:08   \n",
       "132515 13034                 0                    0   1/1/2013 4:39   \n",
       "132517 22180                 0                    0   1/1/2013 7:53   \n",
       "\n",
       "                 from_lat  from_long     to_lat    to_long  Car_Cancellation  \n",
       "id     user_id                                                                \n",
       "132512 22177    12.924150  77.672290  12.927320  77.635750                 0  \n",
       "132513 21413    12.966910  77.749350  12.927680  77.626640                 0  \n",
       "132514 22178    12.937222  77.626915  13.047926  77.597766                 0  \n",
       "132515 13034    12.989990  77.553320  12.971430  77.639140                 0  \n",
       "132517 22180    12.845653  77.677925  12.954340  77.600720                 0  "
      ]
     },
     "execution_count": 1,
     "metadata": {},
     "output_type": "execute_result"
    }
   ],
   "source": [
    "import pandas as pd\n",
    "df= pd.read_csv(\"datalocale.csv\",index_col=[0,1])\n",
    "df.fillna(0)\n",
    "df.head()"
   ]
  },
  {
   "cell_type": "code",
   "execution_count": 2,
   "metadata": {},
   "outputs": [
    {
     "name": "stdout",
     "output_type": "stream",
     "text": [
      "[28 12 65 24 87 54 85 17 23 36 72 30 43 86 76  1 69 14 89 10 13 64 90 75\n",
      " 70 91 39]\n"
     ]
    }
   ],
   "source": [
    "print (df['vehicle_model_id'].unique())"
   ]
  },
  {
   "cell_type": "code",
   "execution_count": 3,
   "metadata": {},
   "outputs": [
    {
     "name": "stdout",
     "output_type": "stream",
     "text": [
      "12    31859\n",
      "85     2407\n",
      "89     2391\n",
      "65     1912\n",
      "28     1702\n",
      "24     1494\n",
      "87      565\n",
      "90      312\n",
      "23      297\n",
      "86      123\n",
      "10      104\n",
      "64       85\n",
      "54       73\n",
      "17       40\n",
      "91       25\n",
      "30       14\n",
      "36        9\n",
      "13        7\n",
      "43        2\n",
      "72        2\n",
      "1         2\n",
      "69        1\n",
      "75        1\n",
      "70        1\n",
      "14        1\n",
      "76        1\n",
      "39        1\n",
      "dtype: int64\n"
     ]
    }
   ],
   "source": [
    "vehiclemodeldemand= {}\n",
    "for i in df['vehicle_model_id'].unique():\n",
    "    vehiclemodeldemand[i]= df[df['vehicle_model_id']==i].shape[0]\n",
    "vehiclemodeldemand= pd.Series(vehiclemodeldemand).sort_values(ascending=False)\n",
    "print (vehiclemodeldemand)"
   ]
  },
  {
   "cell_type": "code",
   "execution_count": 4,
   "metadata": {},
   "outputs": [
    {
     "name": "stdout",
     "output_type": "stream",
     "text": [
      "11    3054\n",
      "12    2946\n",
      "20    2766\n",
      "10    2751\n",
      "17    2628\n",
      "13    2628\n",
      "19    2610\n",
      "15    2602\n",
      "16    2577\n",
      "18    2565\n",
      "21    2546\n",
      "14    2439\n",
      "22    2211\n",
      "23    2000\n",
      "9     1994\n",
      "8     1479\n",
      "0     1278\n",
      "7      725\n",
      "1      666\n",
      "2      322\n",
      "6      224\n",
      "3      171\n",
      "4      131\n",
      "5      118\n",
      "dtype: int64\n"
     ]
    }
   ],
   "source": [
    "#checking peak demand hours\n",
    "import datetime as dt\n",
    "import numpy as np\n",
    "def roundtime(t):\n",
    "    if t.minute >= 30:\n",
    "        return t.replace(second=0, minute=0, hour=(t.hour+1)%24)\n",
    "    else:\n",
    "        return t.replace(second=0, minute=0)\n",
    "def returnhour(t):\n",
    "    return t.hour\n",
    "df['Booking Time']= pd.to_datetime(df['booking_created']).dt.time\n",
    "df['Booking Time']=df['Booking Time'].apply(roundtime)\n",
    "df['Booking Time']=df['Booking Time'].apply(returnhour)\n",
    "hourwisedemand= {}\n",
    "for i in np.sort(df['Booking Time'].unique()):\n",
    "    hourwisedemand[i]= df[df['Booking Time']==i].shape[0]\n",
    "hourwisedemand=pd.Series(hourwisedemand)\n",
    "print (hourwisedemand.sort_values(ascending=False,inplace= False))"
   ]
  },
  {
   "cell_type": "code",
   "execution_count": 5,
   "metadata": {},
   "outputs": [
    {
     "data": {
      "text/plain": [
       "<Figure size 800x1500 with 1 Axes>"
      ]
     },
     "metadata": {},
     "output_type": "display_data"
    }
   ],
   "source": [
    "#Vehicle model Demand vs Time\n",
    "import matplotlib.pyplot as plt\n",
    "x= df['Booking Time']\n",
    "y= df['vehicle_model_id']\n",
    "plt.figure(figsize=(8,15))\n",
    "plt.scatter(x,y,marker='o')\n",
    "plt.xticks(ticks= df['Booking Time'].unique())\n",
    "plt.yticks(ticks= df['vehicle_model_id'].unique())\n",
    "plt.show()"
   ]
  },
  {
   "cell_type": "code",
   "execution_count": 6,
   "metadata": {},
   "outputs": [
    {
     "name": "stdout",
     "output_type": "stream",
     "text": [
      " 393.0     3858\n",
      " 571.0     1631\n",
      " 293.0     1052\n",
      " 585.0      911\n",
      " 1010.0     768\n",
      " 142.0      727\n",
      " 83.0       719\n",
      " 1384.0     628\n",
      " 1096.0     542\n",
      " 58.0       466\n",
      " 269.0      413\n",
      " 1026.0     395\n",
      " 625.0      370\n",
      " 1017.0     363\n",
      " 1330.0     362\n",
      " 689.0      341\n",
      " 768.0      334\n",
      " 271.0      333\n",
      " 1056.0     330\n",
      " 1371.0     327\n",
      " 1068.0     324\n",
      " 363.0      308\n",
      " 396.0      289\n",
      " 1021.0     279\n",
      " 1365.0     273\n",
      " 105.0      271\n",
      " 410.0      266\n",
      " 458.0      261\n",
      " 515.0      251\n",
      " 776.0      249\n",
      "           ... \n",
      " 1113.0       1\n",
      " 1201.0       1\n",
      " 79.0         1\n",
      " 1343.0       1\n",
      " 1209.0       1\n",
      " 133.0        1\n",
      " 185.0        1\n",
      " 1215.0       1\n",
      " 1125.0       1\n",
      " 72.0         1\n",
      " 1252.0       1\n",
      " 1158.0       1\n",
      " 1042.0       1\n",
      " 1206.0       1\n",
      " 235.0        1\n",
      " 1092.0       1\n",
      " 1178.0       1\n",
      " 1265.0       1\n",
      " 384.0        1\n",
      " 1380.0       1\n",
      " 369.0        1\n",
      " 483.0        1\n",
      " 1235.0       1\n",
      " 68.0         1\n",
      " 1094.0       1\n",
      " 770.0        1\n",
      " 1345.0       1\n",
      " 733.0        1\n",
      " 1403.0       1\n",
      "NaN           0\n",
      "Length: 599, dtype: int64\n"
     ]
    }
   ],
   "source": [
    "areawisedemand= {}\n",
    "for i in df['from_area_id'].unique():\n",
    "    areawisedemand[i]= df[df['from_area_id']==i].shape[0]\n",
    "areawisedemand=pd.Series(areawisedemand)\n",
    "print (areawisedemand.sort_values(ascending= False,inplace= False))"
   ]
  },
  {
   "cell_type": "code",
   "execution_count": 7,
   "metadata": {},
   "outputs": [
    {
     "name": "stdout",
     "output_type": "stream",
     "text": [
      " 393.0     8777\n",
      " 585.0     2339\n",
      " 1384.0    1237\n",
      " 571.0      664\n",
      " 293.0      555\n",
      " 1010.0     480\n",
      " 83.0       365\n",
      " 168.0      338\n",
      " 1371.0     332\n",
      " 452.0      330\n",
      " 142.0      326\n",
      " 1026.0     319\n",
      " 1068.0     313\n",
      " 572.0      310\n",
      " 1021.0     276\n",
      " 392.0      270\n",
      " 1192.0     234\n",
      " 1017.0     227\n",
      " 58.0       220\n",
      " 1096.0     217\n",
      " 768.0      200\n",
      " 271.0      195\n",
      " 136.0      187\n",
      " 1393.0     185\n",
      " 1330.0     180\n",
      " 625.0      179\n",
      " 455.0      172\n",
      " 269.0      166\n",
      " 1056.0     164\n",
      " 767.0      162\n",
      "           ... \n",
      " 1196.0       1\n",
      " 1369.0       1\n",
      " 1110.0       1\n",
      " 17.0         1\n",
      " 1201.0       1\n",
      " 1290.0       1\n",
      " 1356.0       1\n",
      " 1233.0       1\n",
      " 1127.0       1\n",
      " 1271.0       1\n",
      " 644.0        1\n",
      " 428.0        1\n",
      " 1368.0       1\n",
      " 201.0        1\n",
      " 301.0        1\n",
      " 1360.0       1\n",
      " 262.0        1\n",
      " 326.0        1\n",
      " 1118.0       1\n",
      " 1326.0       1\n",
      " 1207.0       1\n",
      " 133.0        1\n",
      " 215.0        1\n",
      " 1252.0       1\n",
      " 1124.0       1\n",
      " 216.0        1\n",
      " 174.0        1\n",
      " 1343.0       1\n",
      " 1403.0       1\n",
      "NaN           0\n",
      "Length: 569, dtype: int64\n"
     ]
    }
   ],
   "source": [
    "toareawisedemand= {}\n",
    "for i in df['to_area_id'].unique():\n",
    "    toareawisedemand[i]= df[df['to_area_id']==i].shape[0]\n",
    "toareawisedemand=pd.Series(toareawisedemand)\n",
    "print (toareawisedemand.sort_values(ascending=False,inplace=False))"
   ]
  },
  {
   "cell_type": "code",
   "execution_count": 8,
   "metadata": {},
   "outputs": [
    {
     "name": "stdout",
     "output_type": "stream",
     "text": [
      "2    34292\n",
      "3     7550\n",
      "1     1589\n",
      "dtype: int64\n"
     ]
    }
   ],
   "source": [
    "typewisedemand= {}\n",
    "for i in df['travel_type_id'].unique():\n",
    "    typewisedemand[i]= df[df['travel_type_id']==i].shape[0]\n",
    "typewisedemand=pd.Series(typewisedemand)\n",
    "print (typewisedemand.sort_values(ascending=False,inplace=False))"
   ]
  },
  {
   "cell_type": "code",
   "execution_count": 9,
   "metadata": {},
   "outputs": [
    {
     "data": {
      "image/png": "[encoded data removed]",
      "text/plain": [
       "<Figure size 720x576 with 1 Axes>"
      ]
     },
     "metadata": {
      "needs_background": "light"
     },
     "output_type": "display_data"
    }
   ],
   "source": [
    "plt.figure(figsize=(10,8))\n",
    "x= np.sort(df['Booking Time'].unique())\n",
    "y= np.array(hourwisedemand)\n",
    "plt.scatter(x,y,marker='o')\n",
    "plt.xticks(x)\n",
    "plt.grid()\n",
    "plt.xlabel('Booking Time')\n",
    "plt.ylabel('Count of Bookings')\n",
    "plt.title(\"Time-Demand Plot\")\n",
    "plt.show()"
   ]
  },
  {
   "cell_type": "code",
   "execution_count": 10,
   "metadata": {},
   "outputs": [
    {
     "data": {
      "image/png": "[encoded data removed]",
      "text/plain": [
       "<Figure size 1440x576 with 1 Axes>"
      ]
     },
     "metadata": {
      "needs_background": "light"
     },
     "output_type": "display_data"
    }
   ],
   "source": [
    "plt.figure(figsize=(20,8))\n",
    "x= df['from_area_id'].fillna(0).unique()\n",
    "y= np.array(areawisedemand.fillna(0))\n",
    "plt.scatter(x,y,marker='o')\n",
    "plt.xlabel('from_area_id')\n",
    "plt.ylabel('Count of Bookings')\n",
    "plt.title(\"From-Area vs Demand Plot\")\n",
    "plt.show()"
   ]
  },
  {
   "cell_type": "code",
   "execution_count": 11,
   "metadata": {},
   "outputs": [
    {
     "data": {
      "image/png": "[encoded data removed]",
      "text/plain": [
       "<Figure size 1440x576 with 1 Axes>"
      ]
     },
     "metadata": {
      "needs_background": "light"
     },
     "output_type": "display_data"
    }
   ],
   "source": [
    "plt.figure(figsize=(20,8))\n",
    "x= df['to_area_id'].fillna(0).unique()\n",
    "y= np.array(toareawisedemand.fillna(0))\n",
    "plt.scatter(x,y,marker='o')\n",
    "plt.xlabel('to_area_id')\n",
    "plt.ylabel('Count of Bookings')\n",
    "plt.title(\"To-Area vs Demand Plot\")\n",
    "plt.show()"
   ]
  },
  {
   "cell_type": "code",
   "execution_count": 12,
   "metadata": {},
   "outputs": [
    {
     "data": {
      "image/png": "[encoded data removed]",
      "text/plain": [
       "<Figure size 360x360 with 1 Axes>"
      ]
     },
     "metadata": {
      "needs_background": "light"
     },
     "output_type": "display_data"
    }
   ],
   "source": [
    "plt.figure(figsize=(5,5))\n",
    "x= df['travel_type_id'].unique()\n",
    "y= np.array(typewisedemand)\n",
    "plt.scatter(x,y,marker='o')\n",
    "plt.xticks(x)\n",
    "plt.grid()\n",
    "plt.xlabel('travel_type_id')\n",
    "plt.ylabel('Count of Bookings')\n",
    "plt.title(\"Travel-Type vs Demand Plot\")\n",
    "plt.show()"
   ]
  },
  {
   "cell_type": "code",
   "execution_count": 13,
   "metadata": {},
   "outputs": [
    {
     "name": "stdout",
     "output_type": "stream",
     "text": [
      "Enter Booking ID: 132512\n",
      "Enter User ID: 22177\n",
      "Surge= 1.5 x\n"
     ]
    }
   ],
   "source": [
    "df[:1]['travel_type_id'][0] #0th booking\n",
    "def surge_multiplier(booking):\n",
    "    s= 1\n",
    "    if booking['travel_type_id']==2:\n",
    "        s+=0.2\n",
    "    if booking['Booking Time'] in [10,11,12,20]:\n",
    "        s+=0.8\n",
    "    if booking['Booking Time'] in [13,14,15,16,17,18,19,21]:\n",
    "        s+=0.5\n",
    "    if booking['Booking Time'] in [9,22,23]:\n",
    "        s+=0.1\n",
    "    if booking['from_area_id']==393.0:\n",
    "        s+=0.8\n",
    "    if booking['from_area_id'] in [571.0,293.0]:\n",
    "        s+=0.4\n",
    "    if booking['from_area_id'] in [585.0,1010.0,142.0,83.0]:\n",
    "        s+=0.3\n",
    "    if booking['from_area_id'] in [1384.0,1096.0]:\n",
    "        s+=0.1\n",
    "    if booking['to_area_id']==393.0:\n",
    "        s+=1\n",
    "    if booking['to_area_id']==585.0:\n",
    "        s+=0.3\n",
    "    if booking['to_area_id']==1384.0:\n",
    "        s+=0.1\n",
    "    return s\n",
    "bkid= int(input(\"Enter Booking ID: \"))\n",
    "userid= int(input(\"Enter User ID: \"))\n",
    "multiplier= surge_multiplier(df.loc[bkid,userid])\n",
    "print (\"Surge=\",multiplier,\"x\")"
   ]
  },
  {
   "cell_type": "code",
   "execution_count": null,
   "metadata": {},
   "outputs": [],
   "source": []
  }
 ],
 "metadata": {
  "kernelspec": {
   "display_name": "Python 3",
   "language": "python",
   "name": "python3"
  },
  "language_info": {
   "codemirror_mode": {
    "name": "ipython",
    "version": 3
   },
   "file_extension": ".py",
   "mimetype": "text/x-python",
   "name": "python",
   "nbconvert_exporter": "python",
   "pygments_lexer": "ipython3",
   "version": "3.7.1"
  }
 },
 "nbformat": 4,
 "nbformat_minor": 2
}
